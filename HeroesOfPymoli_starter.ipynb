{
 "cells": [
  {
   "cell_type": "markdown",
   "metadata": {},
   "source": [
    "### Note\n",
    "* Instructions have been included for each segment. You do not have to follow them exactly, but they are included to help you think through the steps."
   ]
  },
  {
   "cell_type": "code",
   "execution_count": 1,
   "metadata": {},
   "outputs": [],
   "source": [
    "# Dependencies and Setup\n",
    "import pandas as pd\n",
    "\n",
    "# File to Load (Remember to Change These)\n",
    "file_to_load = \"Resources/purchase_data.csv\"\n",
    "\n",
    "# Read Purchasing File and store into Pandas data frame\n",
    "purchase_df = pd.read_csv(file_to_load)"
   ]
  },
  {
   "cell_type": "code",
   "execution_count": 2,
   "metadata": {},
   "outputs": [
    {
     "data": {
      "text/html": [
       "<div>\n",
       "<style scoped>\n",
       "    .dataframe tbody tr th:only-of-type {\n",
       "        vertical-align: middle;\n",
       "    }\n",
       "\n",
       "    .dataframe tbody tr th {\n",
       "        vertical-align: top;\n",
       "    }\n",
       "\n",
       "    .dataframe thead th {\n",
       "        text-align: right;\n",
       "    }\n",
       "</style>\n",
       "<table border=\"1\" class=\"dataframe\">\n",
       "  <thead>\n",
       "    <tr style=\"text-align: right;\">\n",
       "      <th></th>\n",
       "      <th>Purchase ID</th>\n",
       "      <th>SN</th>\n",
       "      <th>Age</th>\n",
       "      <th>Gender</th>\n",
       "      <th>Item ID</th>\n",
       "      <th>Item Name</th>\n",
       "      <th>Price</th>\n",
       "    </tr>\n",
       "  </thead>\n",
       "  <tbody>\n",
       "    <tr>\n",
       "      <th>0</th>\n",
       "      <td>0</td>\n",
       "      <td>Lisim78</td>\n",
       "      <td>20</td>\n",
       "      <td>Male</td>\n",
       "      <td>108</td>\n",
       "      <td>Extraction, Quickblade Of Trembling Hands</td>\n",
       "      <td>3.53</td>\n",
       "    </tr>\n",
       "    <tr>\n",
       "      <th>1</th>\n",
       "      <td>1</td>\n",
       "      <td>Lisovynya38</td>\n",
       "      <td>40</td>\n",
       "      <td>Male</td>\n",
       "      <td>143</td>\n",
       "      <td>Frenzied Scimitar</td>\n",
       "      <td>1.56</td>\n",
       "    </tr>\n",
       "    <tr>\n",
       "      <th>2</th>\n",
       "      <td>2</td>\n",
       "      <td>Ithergue48</td>\n",
       "      <td>24</td>\n",
       "      <td>Male</td>\n",
       "      <td>92</td>\n",
       "      <td>Final Critic</td>\n",
       "      <td>4.88</td>\n",
       "    </tr>\n",
       "    <tr>\n",
       "      <th>3</th>\n",
       "      <td>3</td>\n",
       "      <td>Chamassasya86</td>\n",
       "      <td>24</td>\n",
       "      <td>Male</td>\n",
       "      <td>100</td>\n",
       "      <td>Blindscythe</td>\n",
       "      <td>3.27</td>\n",
       "    </tr>\n",
       "    <tr>\n",
       "      <th>4</th>\n",
       "      <td>4</td>\n",
       "      <td>Iskosia90</td>\n",
       "      <td>23</td>\n",
       "      <td>Male</td>\n",
       "      <td>131</td>\n",
       "      <td>Fury</td>\n",
       "      <td>1.44</td>\n",
       "    </tr>\n",
       "  </tbody>\n",
       "</table>\n",
       "</div>"
      ],
      "text/plain": [
       "   Purchase ID             SN  Age Gender  Item ID  \\\n",
       "0            0        Lisim78   20   Male      108   \n",
       "1            1    Lisovynya38   40   Male      143   \n",
       "2            2     Ithergue48   24   Male       92   \n",
       "3            3  Chamassasya86   24   Male      100   \n",
       "4            4      Iskosia90   23   Male      131   \n",
       "\n",
       "                                   Item Name  Price  \n",
       "0  Extraction, Quickblade Of Trembling Hands   3.53  \n",
       "1                          Frenzied Scimitar   1.56  \n",
       "2                               Final Critic   4.88  \n",
       "3                                Blindscythe   3.27  \n",
       "4                                       Fury   1.44  "
      ]
     },
     "execution_count": 2,
     "metadata": {},
     "output_type": "execute_result"
    }
   ],
   "source": [
    "# Show the first 5 rows of data\n",
    "purchase_df.head()"
   ]
  },
  {
   "cell_type": "markdown",
   "metadata": {},
   "source": [
    "## Player Count"
   ]
  },
  {
   "cell_type": "markdown",
   "metadata": {},
   "source": [
    "* Display the total number of players\n"
   ]
  },
  {
   "cell_type": "code",
   "execution_count": 3,
   "metadata": {},
   "outputs": [
    {
     "data": {
      "text/html": [
       "<div>\n",
       "<style scoped>\n",
       "    .dataframe tbody tr th:only-of-type {\n",
       "        vertical-align: middle;\n",
       "    }\n",
       "\n",
       "    .dataframe tbody tr th {\n",
       "        vertical-align: top;\n",
       "    }\n",
       "\n",
       "    .dataframe thead th {\n",
       "        text-align: right;\n",
       "    }\n",
       "</style>\n",
       "<table border=\"1\" class=\"dataframe\">\n",
       "  <thead>\n",
       "    <tr style=\"text-align: right;\">\n",
       "      <th></th>\n",
       "      <th>Total Players</th>\n",
       "    </tr>\n",
       "  </thead>\n",
       "  <tbody>\n",
       "    <tr>\n",
       "      <th>0</th>\n",
       "      <td>576</td>\n",
       "    </tr>\n",
       "  </tbody>\n",
       "</table>\n",
       "</div>"
      ],
      "text/plain": [
       "   Total Players\n",
       "0            576"
      ]
     },
     "execution_count": 3,
     "metadata": {},
     "output_type": "execute_result"
    }
   ],
   "source": [
    "# Count the unique values in the column \"SN\" to get total number of players\n",
    "total_players = purchase_df[\"SN\"].nunique()\n",
    "\n",
    "# Put the total player number into a Data Frame\n",
    "pd.DataFrame({\"Total Players\": [total_players]})"
   ]
  },
  {
   "cell_type": "markdown",
   "metadata": {},
   "source": [
    "## Purchasing Analysis (Total)"
   ]
  },
  {
   "cell_type": "markdown",
   "metadata": {},
   "source": [
    "* Run basic calculations to obtain number of unique items, average price, etc.\n",
    "\n",
    "\n",
    "* Create a summary data frame to hold the results\n",
    "\n",
    "\n",
    "* Optional: give the displayed data cleaner formatting\n",
    "\n",
    "\n",
    "* Display the summary data frame\n"
   ]
  },
  {
   "cell_type": "code",
   "execution_count": 4,
   "metadata": {},
   "outputs": [
    {
     "data": {
      "text/html": [
       "<style  type=\"text/css\" >\n",
       "</style><table id=\"T_278e3_\" ><thead>    <tr>        <th class=\"blank level0\" ></th>        <th class=\"col_heading level0 col0\" >Number of Unique Items</th>        <th class=\"col_heading level0 col1\" >Average Price</th>        <th class=\"col_heading level0 col2\" >Number of Purchases</th>        <th class=\"col_heading level0 col3\" >Total Revenue</th>    </tr></thead><tbody>\n",
       "                <tr>\n",
       "                        <th id=\"T_278e3_level0_row0\" class=\"row_heading level0 row0\" >0</th>\n",
       "                        <td id=\"T_278e3_row0_col0\" class=\"data row0 col0\" >179</td>\n",
       "                        <td id=\"T_278e3_row0_col1\" class=\"data row0 col1\" >$3.05</td>\n",
       "                        <td id=\"T_278e3_row0_col2\" class=\"data row0 col2\" >780</td>\n",
       "                        <td id=\"T_278e3_row0_col3\" class=\"data row0 col3\" >$2,379.77</td>\n",
       "            </tr>\n",
       "    </tbody></table>"
      ],
      "text/plain": [
       "<pandas.io.formats.style.Styler at 0x15aed9c5ca0>"
      ]
     },
     "execution_count": 4,
     "metadata": {},
     "output_type": "execute_result"
    }
   ],
   "source": [
    "# calculate the number of unique items\n",
    "unique_items = purchase_df[\"Item ID\"].nunique()\n",
    "\n",
    "# calculate average price of the items\n",
    "average_price = purchase_df[\"Price\"].mean()\n",
    "\n",
    "# Calculate number of purchases\n",
    "purchases = purchase_df[\"Purchase ID\"].count()\n",
    "\n",
    "# calculate total revenue\n",
    "revenue = purchase_df[\"Price\"].sum()\n",
    "\n",
    "# Create a dictionary to hold the results\n",
    "summary_data = {\"Number of Unique Items\": [unique_items],\n",
    "               \"Average Price\": average_price,\n",
    "               \"Number of Purchases\": purchases,\n",
    "               \"Total Revenue\": revenue}\n",
    "\n",
    "# Create a summary data frame to hold the results\n",
    "summary_df = pd.DataFrame(summary_data)\n",
    "\n",
    "# change the format of Average Price and Total Revenue\n",
    "summary_df = summary_df.style.format({\"Average Price\": '${:,.2f}',\n",
    "                        \"Total Revenue\": '${:,.2f}'})\n",
    "summary_df"
   ]
  },
  {
   "cell_type": "markdown",
   "metadata": {},
   "source": [
    "## Gender Demographics"
   ]
  },
  {
   "cell_type": "markdown",
   "metadata": {},
   "source": [
    "* Percentage and Count of Male Players\n",
    "\n",
    "\n",
    "* Percentage and Count of Female Players\n",
    "\n",
    "\n",
    "* Percentage and Count of Other / Non-Disclosed\n",
    "\n",
    "\n"
   ]
  },
  {
   "cell_type": "code",
   "execution_count": 5,
   "metadata": {},
   "outputs": [
    {
     "data": {
      "text/html": [
       "<style  type=\"text/css\" >\n",
       "</style><table id=\"T_40424_\" ><thead>    <tr>        <th class=\"blank level0\" ></th>        <th class=\"col_heading level0 col0\" >Total Count</th>        <th class=\"col_heading level0 col1\" >Percentage of Players</th>    </tr>    <tr>        <th class=\"index_name level0\" >Gender</th>        <th class=\"blank\" ></th>        <th class=\"blank\" ></th>    </tr></thead><tbody>\n",
       "                <tr>\n",
       "                        <th id=\"T_40424_level0_row0\" class=\"row_heading level0 row0\" >Male</th>\n",
       "                        <td id=\"T_40424_row0_col0\" class=\"data row0 col0\" >484</td>\n",
       "                        <td id=\"T_40424_row0_col1\" class=\"data row0 col1\" >84.03%</td>\n",
       "            </tr>\n",
       "            <tr>\n",
       "                        <th id=\"T_40424_level0_row1\" class=\"row_heading level0 row1\" >Female</th>\n",
       "                        <td id=\"T_40424_row1_col0\" class=\"data row1 col0\" >81</td>\n",
       "                        <td id=\"T_40424_row1_col1\" class=\"data row1 col1\" >14.06%</td>\n",
       "            </tr>\n",
       "            <tr>\n",
       "                        <th id=\"T_40424_level0_row2\" class=\"row_heading level0 row2\" >Other / Non-Disclosed</th>\n",
       "                        <td id=\"T_40424_row2_col0\" class=\"data row2 col0\" >11</td>\n",
       "                        <td id=\"T_40424_row2_col1\" class=\"data row2 col1\" >1.91%</td>\n",
       "            </tr>\n",
       "    </tbody></table>"
      ],
      "text/plain": [
       "<pandas.io.formats.style.Styler at 0x15aed93c6d0>"
      ]
     },
     "execution_count": 5,
     "metadata": {},
     "output_type": "execute_result"
    }
   ],
   "source": [
    "# generate a dataframe containing player \"SN\" and \"Gender\"\n",
    "gender_df = purchase_df[[\"SN\", \"Gender\"]]\n",
    "\n",
    "# remove duplicates in the SN\n",
    "gender_df = gender_df.drop_duplicates(subset=[\"SN\"])\n",
    "\n",
    "# group by gender to count numbers of Male, Female and Non-Disclosed\n",
    "gender_summary_df = gender_df.groupby(\"Gender\").count().sort_values(\"SN\", ascending=False)\n",
    "\n",
    "# rename \"SN\" to \"Total Count\"\n",
    "gender_summary_df = gender_summary_df.rename(columns= {\"SN\":\"Total Count\"})\n",
    "\n",
    "# Add a column to calculate percentage of gender\n",
    "gender_summary_df[\"Percentage of Players\"]=gender_summary_df[\"Total Count\"]/total_players\n",
    "\n",
    "# Change the format of \"Percentage of Players\"\n",
    "gender_summary_df = gender_summary_df.style.format({'Percentage of Players': \"{:.2%}\"})\n",
    "gender_summary_df"
   ]
  },
  {
   "cell_type": "markdown",
   "metadata": {},
   "source": [
    "\n",
    "## Purchasing Analysis (Gender)"
   ]
  },
  {
   "cell_type": "markdown",
   "metadata": {},
   "source": [
    "* Run basic calculations to obtain purchase count, avg. purchase price, avg. purchase total per person etc. by gender\n",
    "\n",
    "\n",
    "\n",
    "\n",
    "* Create a summary data frame to hold the results\n",
    "\n",
    "\n",
    "* Optional: give the displayed data cleaner formatting\n",
    "\n",
    "\n",
    "* Display the summary data frame"
   ]
  },
  {
   "cell_type": "code",
   "execution_count": 6,
   "metadata": {},
   "outputs": [
    {
     "data": {
      "text/html": [
       "<style  type=\"text/css\" >\n",
       "</style><table id=\"T_ed78f_\" ><thead>    <tr>        <th class=\"blank level0\" ></th>        <th class=\"col_heading level0 col0\" >Purchase Count</th>        <th class=\"col_heading level0 col1\" >Average Purchase Price</th>        <th class=\"col_heading level0 col2\" >Total Purchase Value</th>        <th class=\"col_heading level0 col3\" >Avg Total Purchase per Person</th>    </tr>    <tr>        <th class=\"index_name level0\" >Gender</th>        <th class=\"blank\" ></th>        <th class=\"blank\" ></th>        <th class=\"blank\" ></th>        <th class=\"blank\" ></th>    </tr></thead><tbody>\n",
       "                <tr>\n",
       "                        <th id=\"T_ed78f_level0_row0\" class=\"row_heading level0 row0\" >Female</th>\n",
       "                        <td id=\"T_ed78f_row0_col0\" class=\"data row0 col0\" >113</td>\n",
       "                        <td id=\"T_ed78f_row0_col1\" class=\"data row0 col1\" >$3.20</td>\n",
       "                        <td id=\"T_ed78f_row0_col2\" class=\"data row0 col2\" >$361.94</td>\n",
       "                        <td id=\"T_ed78f_row0_col3\" class=\"data row0 col3\" >$4.47</td>\n",
       "            </tr>\n",
       "            <tr>\n",
       "                        <th id=\"T_ed78f_level0_row1\" class=\"row_heading level0 row1\" >Male</th>\n",
       "                        <td id=\"T_ed78f_row1_col0\" class=\"data row1 col0\" >652</td>\n",
       "                        <td id=\"T_ed78f_row1_col1\" class=\"data row1 col1\" >$3.02</td>\n",
       "                        <td id=\"T_ed78f_row1_col2\" class=\"data row1 col2\" >$1,967.64</td>\n",
       "                        <td id=\"T_ed78f_row1_col3\" class=\"data row1 col3\" >$4.07</td>\n",
       "            </tr>\n",
       "            <tr>\n",
       "                        <th id=\"T_ed78f_level0_row2\" class=\"row_heading level0 row2\" >Other / Non-Disclosed</th>\n",
       "                        <td id=\"T_ed78f_row2_col0\" class=\"data row2 col0\" >15</td>\n",
       "                        <td id=\"T_ed78f_row2_col1\" class=\"data row2 col1\" >$3.35</td>\n",
       "                        <td id=\"T_ed78f_row2_col2\" class=\"data row2 col2\" >$50.19</td>\n",
       "                        <td id=\"T_ed78f_row2_col3\" class=\"data row2 col3\" >$4.56</td>\n",
       "            </tr>\n",
       "    </tbody></table>"
      ],
      "text/plain": [
       "<pandas.io.formats.style.Styler at 0x15aee892ca0>"
      ]
     },
     "execution_count": 6,
     "metadata": {},
     "output_type": "execute_result"
    }
   ],
   "source": [
    "# group by Gender to get the purchase count\n",
    "purchase_count = purchase_df.groupby(\"Gender\").count()[\"Purchase ID\"]\n",
    "\n",
    "# group by gender to get the average Purchase Price\n",
    "average_purchase_price = purchase_df.groupby(\"Gender\").mean()[\"Price\"] \n",
    "\n",
    "# group by gender to get the total purchase value\n",
    "total_purchase_value = purchase_df.groupby(\"Gender\").sum()[\"Price\"] \n",
    "\n",
    "# construct a dataframe for Purchasing Analysis \n",
    "purchasing_df = pd.DataFrame({\"Purchase Count\": purchase_count, \n",
    "                             \"Average Purchase Price\": average_purchase_price, \n",
    "                             \"Total Purchase Value\": total_purchase_value})\n",
    "\n",
    "# calculate the average total purchase per person and add to the dataframe\n",
    "gender_count = gender_df.groupby(\"Gender\").count()              # gender with unique counts\n",
    "purchasing_df[\"Avg Total Purchase per Person\"] = purchasing_df[\"Total Purchase Value\"]/gender_count[\"SN\"]\n",
    "\n",
    "# change the format \n",
    "purchasing_df = purchasing_df.style.format({\"Average Purchase Price\": '${:,.2f}',\n",
    "                                            \"Total Purchase Value\": '${:,.2f}',\n",
    "                                            \"Avg Total Purchase per Person\": '${:,.2f}'})\n",
    "purchasing_df"
   ]
  },
  {
   "cell_type": "markdown",
   "metadata": {},
   "source": [
    "## Age Demographics"
   ]
  },
  {
   "cell_type": "markdown",
   "metadata": {},
   "source": [
    "* Establish bins for ages\n",
    "\n",
    "\n",
    "* Categorize the existing players using the age bins. Hint: use pd.cut()\n",
    "\n",
    "\n",
    "* Calculate the numbers and percentages by age group\n",
    "\n",
    "\n",
    "* Create a summary data frame to hold the results\n",
    "\n",
    "\n",
    "* Optional: round the percentage column to two decimal points\n",
    "\n",
    "\n",
    "* Display Age Demographics Table\n"
   ]
  },
  {
   "cell_type": "code",
   "execution_count": 7,
   "metadata": {},
   "outputs": [
    {
     "data": {
      "text/html": [
       "<style  type=\"text/css\" >\n",
       "</style><table id=\"T_8bbc4_\" ><thead>    <tr>        <th class=\"blank level0\" ></th>        <th class=\"col_heading level0 col0\" >Total Count</th>        <th class=\"col_heading level0 col1\" >Percentage of Players</th>    </tr>    <tr>        <th class=\"index_name level0\" >Age Group</th>        <th class=\"blank\" ></th>        <th class=\"blank\" ></th>    </tr></thead><tbody>\n",
       "                <tr>\n",
       "                        <th id=\"T_8bbc4_level0_row0\" class=\"row_heading level0 row0\" ><10</th>\n",
       "                        <td id=\"T_8bbc4_row0_col0\" class=\"data row0 col0\" >17</td>\n",
       "                        <td id=\"T_8bbc4_row0_col1\" class=\"data row0 col1\" >2.95%</td>\n",
       "            </tr>\n",
       "            <tr>\n",
       "                        <th id=\"T_8bbc4_level0_row1\" class=\"row_heading level0 row1\" >10-14</th>\n",
       "                        <td id=\"T_8bbc4_row1_col0\" class=\"data row1 col0\" >22</td>\n",
       "                        <td id=\"T_8bbc4_row1_col1\" class=\"data row1 col1\" >3.82%</td>\n",
       "            </tr>\n",
       "            <tr>\n",
       "                        <th id=\"T_8bbc4_level0_row2\" class=\"row_heading level0 row2\" >15-19</th>\n",
       "                        <td id=\"T_8bbc4_row2_col0\" class=\"data row2 col0\" >107</td>\n",
       "                        <td id=\"T_8bbc4_row2_col1\" class=\"data row2 col1\" >18.58%</td>\n",
       "            </tr>\n",
       "            <tr>\n",
       "                        <th id=\"T_8bbc4_level0_row3\" class=\"row_heading level0 row3\" >20-24</th>\n",
       "                        <td id=\"T_8bbc4_row3_col0\" class=\"data row3 col0\" >258</td>\n",
       "                        <td id=\"T_8bbc4_row3_col1\" class=\"data row3 col1\" >44.79%</td>\n",
       "            </tr>\n",
       "            <tr>\n",
       "                        <th id=\"T_8bbc4_level0_row4\" class=\"row_heading level0 row4\" >25-29</th>\n",
       "                        <td id=\"T_8bbc4_row4_col0\" class=\"data row4 col0\" >77</td>\n",
       "                        <td id=\"T_8bbc4_row4_col1\" class=\"data row4 col1\" >13.37%</td>\n",
       "            </tr>\n",
       "            <tr>\n",
       "                        <th id=\"T_8bbc4_level0_row5\" class=\"row_heading level0 row5\" >30-34</th>\n",
       "                        <td id=\"T_8bbc4_row5_col0\" class=\"data row5 col0\" >52</td>\n",
       "                        <td id=\"T_8bbc4_row5_col1\" class=\"data row5 col1\" >9.03%</td>\n",
       "            </tr>\n",
       "            <tr>\n",
       "                        <th id=\"T_8bbc4_level0_row6\" class=\"row_heading level0 row6\" >35-39</th>\n",
       "                        <td id=\"T_8bbc4_row6_col0\" class=\"data row6 col0\" >31</td>\n",
       "                        <td id=\"T_8bbc4_row6_col1\" class=\"data row6 col1\" >5.38%</td>\n",
       "            </tr>\n",
       "            <tr>\n",
       "                        <th id=\"T_8bbc4_level0_row7\" class=\"row_heading level0 row7\" >40+</th>\n",
       "                        <td id=\"T_8bbc4_row7_col0\" class=\"data row7 col0\" >12</td>\n",
       "                        <td id=\"T_8bbc4_row7_col1\" class=\"data row7 col1\" >2.08%</td>\n",
       "            </tr>\n",
       "    </tbody></table>"
      ],
      "text/plain": [
       "<pandas.io.formats.style.Styler at 0x15aeebf7430>"
      ]
     },
     "execution_count": 7,
     "metadata": {},
     "output_type": "execute_result"
    }
   ],
   "source": [
    "# generate the bins for ages\n",
    "bins = [0, 9, 14, 19, 24, 29, 34, 39, 46]           # the oldest player in this dataset is 45\n",
    "\n",
    "# generate the group names\n",
    "group_names = [\"<10\", \"10-14\", \"15-19\", \"20-24\", \"25-29\", \"30-34\", \"35-39\", \"40+\"]\n",
    "\n",
    "# Creat a dataframe containing SN and age\n",
    "age_df = purchase_df[[\"SN\", \"Age\"]]\n",
    "\n",
    "# remove duplicates in the SN\n",
    "age_df = age_df.drop_duplicates(subset=[\"SN\"])\n",
    "\n",
    "# add the bins column\n",
    "age_df[\"Age Group\"] = pd.cut(age_df[\"Age\"], bins, labels=group_names)\n",
    "# generate the data frame containing the bined data\n",
    "age_demographics_df = age_df.groupby(\"Age Group\").count()\n",
    "age_unique = age_demographics_df\n",
    "# rename the columns\n",
    "age_demographics_df = age_demographics_df.rename(columns= {\"SN\":\"Total Count\", \"Age\": \"Percentage of Players\"})\n",
    "\n",
    "# calculate the percentage of players\n",
    "age_demographics_df[\"Percentage of Players\"]=age_demographics_df[\"Percentage of Players\"]/total_players\n",
    "\n",
    "# format the data\n",
    "age_demographics_df = age_demographics_df.style.format({'Percentage of Players': \"{:.2%}\"})\n",
    "\n",
    "age_demographics_df"
   ]
  },
  {
   "cell_type": "markdown",
   "metadata": {},
   "source": [
    "## Purchasing Analysis (Age)"
   ]
  },
  {
   "cell_type": "markdown",
   "metadata": {},
   "source": [
    "* Bin the purchase_data data frame by age\n",
    "\n",
    "\n",
    "* Run basic calculations to obtain purchase count, avg. purchase price, avg. purchase total per person etc. in the table below\n",
    "\n",
    "\n",
    "* Create a summary data frame to hold the results\n",
    "\n",
    "\n",
    "* Optional: give the displayed data cleaner formatting\n",
    "\n",
    "\n",
    "* Display the summary data frame"
   ]
  },
  {
   "cell_type": "code",
   "execution_count": 8,
   "metadata": {},
   "outputs": [
    {
     "data": {
      "text/html": [
       "<style  type=\"text/css\" >\n",
       "</style><table id=\"T_b01b6_\" ><thead>    <tr>        <th class=\"blank level0\" ></th>        <th class=\"col_heading level0 col0\" >Purchase Count</th>        <th class=\"col_heading level0 col1\" >Average Purchase Price</th>        <th class=\"col_heading level0 col2\" >Total Purchase Value</th>        <th class=\"col_heading level0 col3\" >Avg Total Purchase per Person</th>    </tr>    <tr>        <th class=\"index_name level0\" >Age Range</th>        <th class=\"blank\" ></th>        <th class=\"blank\" ></th>        <th class=\"blank\" ></th>        <th class=\"blank\" ></th>    </tr></thead><tbody>\n",
       "                <tr>\n",
       "                        <th id=\"T_b01b6_level0_row0\" class=\"row_heading level0 row0\" ><10</th>\n",
       "                        <td id=\"T_b01b6_row0_col0\" class=\"data row0 col0\" >23</td>\n",
       "                        <td id=\"T_b01b6_row0_col1\" class=\"data row0 col1\" >$3.35</td>\n",
       "                        <td id=\"T_b01b6_row0_col2\" class=\"data row0 col2\" >$77.13</td>\n",
       "                        <td id=\"T_b01b6_row0_col3\" class=\"data row0 col3\" >$4.54</td>\n",
       "            </tr>\n",
       "            <tr>\n",
       "                        <th id=\"T_b01b6_level0_row1\" class=\"row_heading level0 row1\" >10-14</th>\n",
       "                        <td id=\"T_b01b6_row1_col0\" class=\"data row1 col0\" >28</td>\n",
       "                        <td id=\"T_b01b6_row1_col1\" class=\"data row1 col1\" >$2.96</td>\n",
       "                        <td id=\"T_b01b6_row1_col2\" class=\"data row1 col2\" >$82.78</td>\n",
       "                        <td id=\"T_b01b6_row1_col3\" class=\"data row1 col3\" >$3.76</td>\n",
       "            </tr>\n",
       "            <tr>\n",
       "                        <th id=\"T_b01b6_level0_row2\" class=\"row_heading level0 row2\" >15-19</th>\n",
       "                        <td id=\"T_b01b6_row2_col0\" class=\"data row2 col0\" >136</td>\n",
       "                        <td id=\"T_b01b6_row2_col1\" class=\"data row2 col1\" >$3.04</td>\n",
       "                        <td id=\"T_b01b6_row2_col2\" class=\"data row2 col2\" >$412.89</td>\n",
       "                        <td id=\"T_b01b6_row2_col3\" class=\"data row2 col3\" >$3.86</td>\n",
       "            </tr>\n",
       "            <tr>\n",
       "                        <th id=\"T_b01b6_level0_row3\" class=\"row_heading level0 row3\" >20-24</th>\n",
       "                        <td id=\"T_b01b6_row3_col0\" class=\"data row3 col0\" >365</td>\n",
       "                        <td id=\"T_b01b6_row3_col1\" class=\"data row3 col1\" >$3.05</td>\n",
       "                        <td id=\"T_b01b6_row3_col2\" class=\"data row3 col2\" >$1,114.06</td>\n",
       "                        <td id=\"T_b01b6_row3_col3\" class=\"data row3 col3\" >$4.32</td>\n",
       "            </tr>\n",
       "            <tr>\n",
       "                        <th id=\"T_b01b6_level0_row4\" class=\"row_heading level0 row4\" >25-29</th>\n",
       "                        <td id=\"T_b01b6_row4_col0\" class=\"data row4 col0\" >101</td>\n",
       "                        <td id=\"T_b01b6_row4_col1\" class=\"data row4 col1\" >$2.90</td>\n",
       "                        <td id=\"T_b01b6_row4_col2\" class=\"data row4 col2\" >$293.00</td>\n",
       "                        <td id=\"T_b01b6_row4_col3\" class=\"data row4 col3\" >$3.81</td>\n",
       "            </tr>\n",
       "            <tr>\n",
       "                        <th id=\"T_b01b6_level0_row5\" class=\"row_heading level0 row5\" >30-34</th>\n",
       "                        <td id=\"T_b01b6_row5_col0\" class=\"data row5 col0\" >73</td>\n",
       "                        <td id=\"T_b01b6_row5_col1\" class=\"data row5 col1\" >$2.93</td>\n",
       "                        <td id=\"T_b01b6_row5_col2\" class=\"data row5 col2\" >$214.00</td>\n",
       "                        <td id=\"T_b01b6_row5_col3\" class=\"data row5 col3\" >$4.12</td>\n",
       "            </tr>\n",
       "            <tr>\n",
       "                        <th id=\"T_b01b6_level0_row6\" class=\"row_heading level0 row6\" >35-39</th>\n",
       "                        <td id=\"T_b01b6_row6_col0\" class=\"data row6 col0\" >41</td>\n",
       "                        <td id=\"T_b01b6_row6_col1\" class=\"data row6 col1\" >$3.60</td>\n",
       "                        <td id=\"T_b01b6_row6_col2\" class=\"data row6 col2\" >$147.67</td>\n",
       "                        <td id=\"T_b01b6_row6_col3\" class=\"data row6 col3\" >$4.76</td>\n",
       "            </tr>\n",
       "            <tr>\n",
       "                        <th id=\"T_b01b6_level0_row7\" class=\"row_heading level0 row7\" >40+</th>\n",
       "                        <td id=\"T_b01b6_row7_col0\" class=\"data row7 col0\" >13</td>\n",
       "                        <td id=\"T_b01b6_row7_col1\" class=\"data row7 col1\" >$2.94</td>\n",
       "                        <td id=\"T_b01b6_row7_col2\" class=\"data row7 col2\" >$38.24</td>\n",
       "                        <td id=\"T_b01b6_row7_col3\" class=\"data row7 col3\" >$3.19</td>\n",
       "            </tr>\n",
       "    </tbody></table>"
      ],
      "text/plain": [
       "<pandas.io.formats.style.Styler at 0x15aed9d1850>"
      ]
     },
     "execution_count": 8,
     "metadata": {},
     "output_type": "execute_result"
    }
   ],
   "source": [
    "# Creat a dataframe containing SN and age\n",
    "PA_age_df = purchase_df.loc[:, [\"Age\", \"Price\"]]\n",
    "\n",
    "# add the bins column\n",
    "PA_age_df[\"Age Range\"] = pd.cut(PA_age_df[\"Age\"], bins, labels=group_names)\n",
    "\n",
    "# Calculate Purchase Count for each Age range\n",
    "purchase_count = PA_age_df.groupby(\"Age Range\").count()[\"Age\"]\n",
    "\n",
    "# Calculate Average Purchase Price for each Age range\n",
    "avg_purchase_price = PA_age_df.groupby(\"Age Range\").mean()[\"Price\"]\n",
    "\n",
    "# Calculate Total Purchase Value for each Age range\n",
    "total_value = PA_age_df.groupby(\"Age Range\").sum()[\"Price\"]\n",
    "\n",
    "# Calculate Avg Total Purchase per Person for each age range\n",
    "purchase_per_person = total_value/age_unique[\"Age\"]\n",
    "\n",
    "# Create a summary data frame to hold the results\n",
    "purchasing_analysis_df = pd.DataFrame({\"Purchase Count\": purchase_count, \n",
    "                                    \"Average Purchase Price\": avg_purchase_price, \n",
    "                                    \"Total Purchase Value\": total_value,\n",
    "                                    \"Avg Total Purchase per Person\": purchase_per_person})\n",
    "# change the format \n",
    "purchasing_analysis_df = purchasing_analysis_df.style.format({\"Average Purchase Price\": '${:,.2f}',\n",
    "                                                            \"Total Purchase Value\": '${:,.2f}',\n",
    "                                                            \"Avg Total Purchase per Person\": '${:,.2f}'})\n",
    "purchasing_analysis_df"
   ]
  },
  {
   "cell_type": "markdown",
   "metadata": {},
   "source": [
    "## Top Spenders"
   ]
  },
  {
   "cell_type": "markdown",
   "metadata": {},
   "source": [
    "* Run basic calculations to obtain the results in the table below\n",
    "\n",
    "\n",
    "* Create a summary data frame to hold the results\n",
    "\n",
    "\n",
    "* Sort the total purchase value column in descending order\n",
    "\n",
    "\n",
    "* Optional: give the displayed data cleaner formatting\n",
    "\n",
    "\n",
    "* Display a preview of the summary data frame\n",
    "\n"
   ]
  },
  {
   "cell_type": "code",
   "execution_count": 9,
   "metadata": {
    "scrolled": false
   },
   "outputs": [
    {
     "data": {
      "text/html": [
       "<style  type=\"text/css\" >\n",
       "</style><table id=\"T_14658_\" ><thead>    <tr>        <th class=\"blank level0\" ></th>        <th class=\"col_heading level0 col0\" >Purchase Count</th>        <th class=\"col_heading level0 col1\" >Average Purchase Price</th>        <th class=\"col_heading level0 col2\" >Total Purchase Value</th>    </tr>    <tr>        <th class=\"index_name level0\" >SN</th>        <th class=\"blank\" ></th>        <th class=\"blank\" ></th>        <th class=\"blank\" ></th>    </tr></thead><tbody>\n",
       "                <tr>\n",
       "                        <th id=\"T_14658_level0_row0\" class=\"row_heading level0 row0\" >Lisosia93</th>\n",
       "                        <td id=\"T_14658_row0_col0\" class=\"data row0 col0\" >5</td>\n",
       "                        <td id=\"T_14658_row0_col1\" class=\"data row0 col1\" >$3.79</td>\n",
       "                        <td id=\"T_14658_row0_col2\" class=\"data row0 col2\" >$18.96</td>\n",
       "            </tr>\n",
       "            <tr>\n",
       "                        <th id=\"T_14658_level0_row1\" class=\"row_heading level0 row1\" >Idastidru52</th>\n",
       "                        <td id=\"T_14658_row1_col0\" class=\"data row1 col0\" >4</td>\n",
       "                        <td id=\"T_14658_row1_col1\" class=\"data row1 col1\" >$3.86</td>\n",
       "                        <td id=\"T_14658_row1_col2\" class=\"data row1 col2\" >$15.45</td>\n",
       "            </tr>\n",
       "            <tr>\n",
       "                        <th id=\"T_14658_level0_row2\" class=\"row_heading level0 row2\" >Chamjask73</th>\n",
       "                        <td id=\"T_14658_row2_col0\" class=\"data row2 col0\" >3</td>\n",
       "                        <td id=\"T_14658_row2_col1\" class=\"data row2 col1\" >$4.61</td>\n",
       "                        <td id=\"T_14658_row2_col2\" class=\"data row2 col2\" >$13.83</td>\n",
       "            </tr>\n",
       "            <tr>\n",
       "                        <th id=\"T_14658_level0_row3\" class=\"row_heading level0 row3\" >Iral74</th>\n",
       "                        <td id=\"T_14658_row3_col0\" class=\"data row3 col0\" >4</td>\n",
       "                        <td id=\"T_14658_row3_col1\" class=\"data row3 col1\" >$3.40</td>\n",
       "                        <td id=\"T_14658_row3_col2\" class=\"data row3 col2\" >$13.62</td>\n",
       "            </tr>\n",
       "            <tr>\n",
       "                        <th id=\"T_14658_level0_row4\" class=\"row_heading level0 row4\" >Iskadarya95</th>\n",
       "                        <td id=\"T_14658_row4_col0\" class=\"data row4 col0\" >3</td>\n",
       "                        <td id=\"T_14658_row4_col1\" class=\"data row4 col1\" >$4.37</td>\n",
       "                        <td id=\"T_14658_row4_col2\" class=\"data row4 col2\" >$13.10</td>\n",
       "            </tr>\n",
       "    </tbody></table>"
      ],
      "text/plain": [
       "<pandas.io.formats.style.Styler at 0x15aed9c5670>"
      ]
     },
     "execution_count": 9,
     "metadata": {},
     "output_type": "execute_result"
    }
   ],
   "source": [
    "# group by SN to get Purchase Count\n",
    "purchase_count = purchase_df.groupby([\"SN\"]).count()[\"Purchase ID\"]\n",
    "\n",
    "# group by SN to get Average Purchase Price\n",
    "avg_purchase_price = purchase_df.groupby([\"SN\"]).mean()[\"Price\"]\n",
    "\n",
    "# group by SN to get Total Purchase Value\n",
    "total_purchase_value = purchase_df.groupby([\"SN\"]).sum()[\"Price\"]\n",
    "\n",
    "# Create a summary data frame to hold the results\n",
    "spender_df = pd.DataFrame({\"Purchase Count\": purchase_count, \n",
    "                           \"Average Purchase Price\": avg_purchase_price, \n",
    "                           \"Total Purchase Value\": total_purchase_value})\n",
    "# Sort by Total Purchase Value\n",
    "spender_df=spender_df.sort_values(\"Total Purchase Value\", ascending=False)\n",
    "\n",
    "# change the format \n",
    "spender_styler = spender_df.head(5).style.format({\"Average Purchase Price\": '${:,.2f}',\n",
    "                                      \"Total Purchase Value\": '${:,.2f}'})\n",
    "spender_styler"
   ]
  },
  {
   "cell_type": "markdown",
   "metadata": {},
   "source": [
    "## Most Popular Items"
   ]
  },
  {
   "cell_type": "markdown",
   "metadata": {},
   "source": [
    "* Retrieve the Item ID, Item Name, and Item Price columns\n",
    "\n",
    "\n",
    "* Group by Item ID and Item Name. Perform calculations to obtain purchase count, average item price, and total purchase value\n",
    "\n",
    "\n",
    "* Create a summary data frame to hold the results\n",
    "\n",
    "\n",
    "* Sort the purchase count column in descending order\n",
    "\n",
    "\n",
    "* Optional: give the displayed data cleaner formatting\n",
    "\n",
    "\n",
    "* Display a preview of the summary data frame\n",
    "\n"
   ]
  },
  {
   "cell_type": "code",
   "execution_count": 10,
   "metadata": {},
   "outputs": [
    {
     "data": {
      "text/html": [
       "<style  type=\"text/css\" >\n",
       "</style><table id=\"T_4f07e_\" ><thead>    <tr>        <th class=\"blank\" ></th>        <th class=\"blank level0\" ></th>        <th class=\"col_heading level0 col0\" >Purchase Count</th>        <th class=\"col_heading level0 col1\" >Item Price</th>        <th class=\"col_heading level0 col2\" >Total Purchase Value</th>    </tr>    <tr>        <th class=\"index_name level0\" >Item ID</th>        <th class=\"index_name level1\" >Item Name</th>        <th class=\"blank\" ></th>        <th class=\"blank\" ></th>        <th class=\"blank\" ></th>    </tr></thead><tbody>\n",
       "                <tr>\n",
       "                        <th id=\"T_4f07e_level0_row0\" class=\"row_heading level0 row0\" >92</th>\n",
       "                        <th id=\"T_4f07e_level1_row0\" class=\"row_heading level1 row0\" >Final Critic</th>\n",
       "                        <td id=\"T_4f07e_row0_col0\" class=\"data row0 col0\" >13</td>\n",
       "                        <td id=\"T_4f07e_row0_col1\" class=\"data row0 col1\" >$4.61</td>\n",
       "                        <td id=\"T_4f07e_row0_col2\" class=\"data row0 col2\" >$59.99</td>\n",
       "            </tr>\n",
       "            <tr>\n",
       "                        <th id=\"T_4f07e_level0_row1\" class=\"row_heading level0 row1\" >178</th>\n",
       "                        <th id=\"T_4f07e_level1_row1\" class=\"row_heading level1 row1\" >Oathbreaker, Last Hope of the Breaking Storm</th>\n",
       "                        <td id=\"T_4f07e_row1_col0\" class=\"data row1 col0\" >12</td>\n",
       "                        <td id=\"T_4f07e_row1_col1\" class=\"data row1 col1\" >$4.23</td>\n",
       "                        <td id=\"T_4f07e_row1_col2\" class=\"data row1 col2\" >$50.76</td>\n",
       "            </tr>\n",
       "            <tr>\n",
       "                        <th id=\"T_4f07e_level0_row2\" class=\"row_heading level0 row2\" >145</th>\n",
       "                        <th id=\"T_4f07e_level1_row2\" class=\"row_heading level1 row2\" >Fiery Glass Crusader</th>\n",
       "                        <td id=\"T_4f07e_row2_col0\" class=\"data row2 col0\" >9</td>\n",
       "                        <td id=\"T_4f07e_row2_col1\" class=\"data row2 col1\" >$4.58</td>\n",
       "                        <td id=\"T_4f07e_row2_col2\" class=\"data row2 col2\" >$41.22</td>\n",
       "            </tr>\n",
       "            <tr>\n",
       "                        <th id=\"T_4f07e_level0_row3\" class=\"row_heading level0 row3\" >132</th>\n",
       "                        <th id=\"T_4f07e_level1_row3\" class=\"row_heading level1 row3\" >Persuasion</th>\n",
       "                        <td id=\"T_4f07e_row3_col0\" class=\"data row3 col0\" >9</td>\n",
       "                        <td id=\"T_4f07e_row3_col1\" class=\"data row3 col1\" >$3.22</td>\n",
       "                        <td id=\"T_4f07e_row3_col2\" class=\"data row3 col2\" >$28.99</td>\n",
       "            </tr>\n",
       "            <tr>\n",
       "                        <th id=\"T_4f07e_level0_row4\" class=\"row_heading level0 row4\" >108</th>\n",
       "                        <th id=\"T_4f07e_level1_row4\" class=\"row_heading level1 row4\" >Extraction, Quickblade Of Trembling Hands</th>\n",
       "                        <td id=\"T_4f07e_row4_col0\" class=\"data row4 col0\" >9</td>\n",
       "                        <td id=\"T_4f07e_row4_col1\" class=\"data row4 col1\" >$3.53</td>\n",
       "                        <td id=\"T_4f07e_row4_col2\" class=\"data row4 col2\" >$31.77</td>\n",
       "            </tr>\n",
       "    </tbody></table>"
      ],
      "text/plain": [
       "<pandas.io.formats.style.Styler at 0x15aed93c9a0>"
      ]
     },
     "execution_count": 10,
     "metadata": {},
     "output_type": "execute_result"
    }
   ],
   "source": [
    "# Retrieve the Item ID, Item Name, and Item Price columns\n",
    "popularity_df = purchase_df[[\"Item ID\", \"Item Name\", \"Price\"]]\n",
    "\n",
    "# group by item ID and Item Name to obtain purchase count\n",
    "purchase_count = popularity_df.groupby([\"Item ID\", \"Item Name\"]).count()[\"Price\"]\n",
    "\n",
    "# group by item ID and Item Name to obtain average item price\n",
    "avg_price = popularity_df.groupby([\"Item ID\", \"Item Name\"]).mean()[\"Price\"]\n",
    "\n",
    "# group by item ID and Item Name to obtain total purchase value\n",
    "total_value = popularity_df.groupby([\"Item ID\", \"Item Name\"]).sum()[\"Price\"]\n",
    "\n",
    "# Create a summary data frame to hold the results\n",
    "purchase_summary_df = pd.DataFrame({\"Purchase Count\": purchase_count, \n",
    "                               \"Item Price\": avg_price, \n",
    "                               \"Total Purchase Value\": total_value})\n",
    "\n",
    "# Sort by Purchase Count to find the most popular item\n",
    "most_popular_df=purchase_summary_df.sort_values(\"Purchase Count\", ascending=False)\n",
    "\n",
    "# change the format \n",
    "most_popular_styler = most_popular_df.head(5).style.format({\"Item Price\": '${:,.2f}',\n",
    "                                                            \"Total Purchase Value\": '${:,.2f}'})\n",
    "most_popular_styler"
   ]
  },
  {
   "cell_type": "markdown",
   "metadata": {},
   "source": [
    "## Most Profitable Items"
   ]
  },
  {
   "cell_type": "markdown",
   "metadata": {},
   "source": [
    "* Sort the above table by total purchase value in descending order\n",
    "\n",
    "\n",
    "* Optional: give the displayed data cleaner formatting\n",
    "\n",
    "\n",
    "* Display a preview of the data frame\n",
    "\n"
   ]
  },
  {
   "cell_type": "code",
   "execution_count": 11,
   "metadata": {
    "scrolled": false
   },
   "outputs": [
    {
     "data": {
      "text/html": [
       "<style  type=\"text/css\" >\n",
       "</style><table id=\"T_f87c8_\" ><thead>    <tr>        <th class=\"blank\" ></th>        <th class=\"blank level0\" ></th>        <th class=\"col_heading level0 col0\" >Purchase Count</th>        <th class=\"col_heading level0 col1\" >Item Price</th>        <th class=\"col_heading level0 col2\" >Total Purchase Value</th>    </tr>    <tr>        <th class=\"index_name level0\" >Item ID</th>        <th class=\"index_name level1\" >Item Name</th>        <th class=\"blank\" ></th>        <th class=\"blank\" ></th>        <th class=\"blank\" ></th>    </tr></thead><tbody>\n",
       "                <tr>\n",
       "                        <th id=\"T_f87c8_level0_row0\" class=\"row_heading level0 row0\" >92</th>\n",
       "                        <th id=\"T_f87c8_level1_row0\" class=\"row_heading level1 row0\" >Final Critic</th>\n",
       "                        <td id=\"T_f87c8_row0_col0\" class=\"data row0 col0\" >13</td>\n",
       "                        <td id=\"T_f87c8_row0_col1\" class=\"data row0 col1\" >$4.61</td>\n",
       "                        <td id=\"T_f87c8_row0_col2\" class=\"data row0 col2\" >$59.99</td>\n",
       "            </tr>\n",
       "            <tr>\n",
       "                        <th id=\"T_f87c8_level0_row1\" class=\"row_heading level0 row1\" >178</th>\n",
       "                        <th id=\"T_f87c8_level1_row1\" class=\"row_heading level1 row1\" >Oathbreaker, Last Hope of the Breaking Storm</th>\n",
       "                        <td id=\"T_f87c8_row1_col0\" class=\"data row1 col0\" >12</td>\n",
       "                        <td id=\"T_f87c8_row1_col1\" class=\"data row1 col1\" >$4.23</td>\n",
       "                        <td id=\"T_f87c8_row1_col2\" class=\"data row1 col2\" >$50.76</td>\n",
       "            </tr>\n",
       "            <tr>\n",
       "                        <th id=\"T_f87c8_level0_row2\" class=\"row_heading level0 row2\" >82</th>\n",
       "                        <th id=\"T_f87c8_level1_row2\" class=\"row_heading level1 row2\" >Nirvana</th>\n",
       "                        <td id=\"T_f87c8_row2_col0\" class=\"data row2 col0\" >9</td>\n",
       "                        <td id=\"T_f87c8_row2_col1\" class=\"data row2 col1\" >$4.90</td>\n",
       "                        <td id=\"T_f87c8_row2_col2\" class=\"data row2 col2\" >$44.10</td>\n",
       "            </tr>\n",
       "            <tr>\n",
       "                        <th id=\"T_f87c8_level0_row3\" class=\"row_heading level0 row3\" >145</th>\n",
       "                        <th id=\"T_f87c8_level1_row3\" class=\"row_heading level1 row3\" >Fiery Glass Crusader</th>\n",
       "                        <td id=\"T_f87c8_row3_col0\" class=\"data row3 col0\" >9</td>\n",
       "                        <td id=\"T_f87c8_row3_col1\" class=\"data row3 col1\" >$4.58</td>\n",
       "                        <td id=\"T_f87c8_row3_col2\" class=\"data row3 col2\" >$41.22</td>\n",
       "            </tr>\n",
       "            <tr>\n",
       "                        <th id=\"T_f87c8_level0_row4\" class=\"row_heading level0 row4\" >103</th>\n",
       "                        <th id=\"T_f87c8_level1_row4\" class=\"row_heading level1 row4\" >Singed Scalpel</th>\n",
       "                        <td id=\"T_f87c8_row4_col0\" class=\"data row4 col0\" >8</td>\n",
       "                        <td id=\"T_f87c8_row4_col1\" class=\"data row4 col1\" >$4.35</td>\n",
       "                        <td id=\"T_f87c8_row4_col2\" class=\"data row4 col2\" >$34.80</td>\n",
       "            </tr>\n",
       "    </tbody></table>"
      ],
      "text/plain": [
       "<pandas.io.formats.style.Styler at 0x15aed9d1400>"
      ]
     },
     "execution_count": 11,
     "metadata": {},
     "output_type": "execute_result"
    }
   ],
   "source": [
    "# Sort by Total Purchase Value to find the most profitable item\n",
    "most_profitable_df=purchase_summary_df.sort_values(\"Total Purchase Value\", ascending=False)\n",
    "\n",
    "# change the format \n",
    "most_profitable_styler = most_profitable_df.head(5).style.format({\"Item Price\": '${:,.2f}',\n",
    "                                                            \"Total Purchase Value\": '${:,.2f}'})\n",
    "most_profitable_styler"
   ]
  },
  {
   "cell_type": "markdown",
   "metadata": {},
   "source": [
    "## Three observable trends based on the data:"
   ]
  },
  {
   "cell_type": "markdown",
   "metadata": {},
   "source": [
    "1. The number of male players is greater than female players.\n",
    "\n",
    "2. The percentage of Players is highest in the age range of 20-24. \n",
    "\n",
    "3. The most popular item \"Final Critic\" is also the most profitable item. "
   ]
  }
 ],
 "metadata": {
  "anaconda-cloud": {},
  "kernel_info": {
   "name": "python3"
  },
  "kernelspec": {
   "display_name": "Python 3",
   "language": "python",
   "name": "python3"
  },
  "language_info": {
   "codemirror_mode": {
    "name": "ipython",
    "version": 3
   },
   "file_extension": ".py",
   "mimetype": "text/x-python",
   "name": "python",
   "nbconvert_exporter": "python",
   "pygments_lexer": "ipython3",
   "version": "3.8.8"
  },
  "latex_envs": {
   "LaTeX_envs_menu_present": true,
   "autoclose": false,
   "autocomplete": true,
   "bibliofile": "biblio.bib",
   "cite_by": "apalike",
   "current_citInitial": 1,
   "eqLabelWithNumbers": true,
   "eqNumInitial": 1,
   "hotkeys": {
    "equation": "Ctrl-E",
    "itemize": "Ctrl-I"
   },
   "labels_anchors": false,
   "latex_user_defs": false,
   "report_style_numbering": false,
   "user_envs_cfg": false
  },
  "nteract": {
   "version": "0.2.0"
  }
 },
 "nbformat": 4,
 "nbformat_minor": 2
}
